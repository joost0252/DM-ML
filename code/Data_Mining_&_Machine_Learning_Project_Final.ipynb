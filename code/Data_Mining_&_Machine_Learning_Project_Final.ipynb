{
  "cells": [
    {
      "cell_type": "markdown",
      "metadata": {
        "id": "view-in-github",
        "colab_type": "text"
      },
      "source": [
        "<a href=\"https://colab.research.google.com/github/joost0252/DMML2022_Tudor/blob/main/Data_Mining_%26_Machine_Learning_Project_Final.ipynb\" target=\"_parent\"><img src=\"https://colab.research.google.com/assets/colab-badge.svg\" alt=\"Open In Colab\"/></a>"
      ]
    },
    {
      "cell_type": "markdown",
      "source": [
        "### 1. Getting Started and all set up!\n"
      ],
      "metadata": {
        "id": "49PzJPA01C8M"
      }
    },
    {
      "cell_type": "markdown",
      "source": [
        "#### 1.1.Downloand and import any required packages."
      ],
      "metadata": {
        "id": "zSIWHvBc3e_m"
      }
    },
    {
      "cell_type": "code",
      "execution_count": 1,
      "metadata": {
        "id": "z1gdeOlSb9RS",
        "colab": {
          "base_uri": "https://localhost:8080/"
        },
        "outputId": "09a57e50-70bb-416e-c1a3-e5c0c8c2138f"
      },
      "outputs": [
        {
          "output_type": "stream",
          "name": "stdout",
          "text": [
            "/usr/local/lib/python3.8/dist-packages/torch/cuda/__init__.py:497: UserWarning: Can't initialize NVML\n",
            "  warnings.warn(\"Can't initialize NVML\")\n",
            "2022-12-22 11:21:51.711510: E tensorflow/stream_executor/cuda/cuda_driver.cc:271] failed call to cuInit: CUDA_ERROR_NO_DEVICE: no CUDA-capable device is detected\n",
            "Looking in indexes: https://pypi.org/simple, https://us-python.pkg.dev/colab-wheels/public/simple/\n",
            "Collecting fr-core-news-sm==3.4.0\n",
            "  Downloading https://github.com/explosion/spacy-models/releases/download/fr_core_news_sm-3.4.0/fr_core_news_sm-3.4.0-py3-none-any.whl (16.3 MB)\n",
            "\u001b[K     |████████████████████████████████| 16.3 MB 5.3 MB/s \n",
            "\u001b[?25hRequirement already satisfied: spacy<3.5.0,>=3.4.0 in /usr/local/lib/python3.8/dist-packages (from fr-core-news-sm==3.4.0) (3.4.4)\n",
            "Requirement already satisfied: jinja2 in /usr/local/lib/python3.8/dist-packages (from spacy<3.5.0,>=3.4.0->fr-core-news-sm==3.4.0) (2.11.3)\n",
            "Requirement already satisfied: numpy>=1.15.0 in /usr/local/lib/python3.8/dist-packages (from spacy<3.5.0,>=3.4.0->fr-core-news-sm==3.4.0) (1.21.6)\n",
            "Requirement already satisfied: catalogue<2.1.0,>=2.0.6 in /usr/local/lib/python3.8/dist-packages (from spacy<3.5.0,>=3.4.0->fr-core-news-sm==3.4.0) (2.0.8)\n",
            "Requirement already satisfied: typer<0.8.0,>=0.3.0 in /usr/local/lib/python3.8/dist-packages (from spacy<3.5.0,>=3.4.0->fr-core-news-sm==3.4.0) (0.7.0)\n",
            "Requirement already satisfied: pydantic!=1.8,!=1.8.1,<1.11.0,>=1.7.4 in /usr/local/lib/python3.8/dist-packages (from spacy<3.5.0,>=3.4.0->fr-core-news-sm==3.4.0) (1.10.2)\n",
            "Requirement already satisfied: tqdm<5.0.0,>=4.38.0 in /usr/local/lib/python3.8/dist-packages (from spacy<3.5.0,>=3.4.0->fr-core-news-sm==3.4.0) (4.64.1)\n",
            "Requirement already satisfied: preshed<3.1.0,>=3.0.2 in /usr/local/lib/python3.8/dist-packages (from spacy<3.5.0,>=3.4.0->fr-core-news-sm==3.4.0) (3.0.8)\n",
            "Requirement already satisfied: pathy>=0.3.5 in /usr/local/lib/python3.8/dist-packages (from spacy<3.5.0,>=3.4.0->fr-core-news-sm==3.4.0) (0.10.1)\n",
            "Requirement already satisfied: packaging>=20.0 in /usr/local/lib/python3.8/dist-packages (from spacy<3.5.0,>=3.4.0->fr-core-news-sm==3.4.0) (21.3)\n",
            "Requirement already satisfied: wasabi<1.1.0,>=0.9.1 in /usr/local/lib/python3.8/dist-packages (from spacy<3.5.0,>=3.4.0->fr-core-news-sm==3.4.0) (0.10.1)\n",
            "Requirement already satisfied: langcodes<4.0.0,>=3.2.0 in /usr/local/lib/python3.8/dist-packages (from spacy<3.5.0,>=3.4.0->fr-core-news-sm==3.4.0) (3.3.0)\n",
            "Requirement already satisfied: requests<3.0.0,>=2.13.0 in /usr/local/lib/python3.8/dist-packages (from spacy<3.5.0,>=3.4.0->fr-core-news-sm==3.4.0) (2.23.0)\n",
            "Requirement already satisfied: spacy-legacy<3.1.0,>=3.0.10 in /usr/local/lib/python3.8/dist-packages (from spacy<3.5.0,>=3.4.0->fr-core-news-sm==3.4.0) (3.0.10)\n",
            "Requirement already satisfied: cymem<2.1.0,>=2.0.2 in /usr/local/lib/python3.8/dist-packages (from spacy<3.5.0,>=3.4.0->fr-core-news-sm==3.4.0) (2.0.7)\n",
            "Requirement already satisfied: spacy-loggers<2.0.0,>=1.0.0 in /usr/local/lib/python3.8/dist-packages (from spacy<3.5.0,>=3.4.0->fr-core-news-sm==3.4.0) (1.0.4)\n",
            "Requirement already satisfied: setuptools in /usr/local/lib/python3.8/dist-packages (from spacy<3.5.0,>=3.4.0->fr-core-news-sm==3.4.0) (57.4.0)\n",
            "Requirement already satisfied: thinc<8.2.0,>=8.1.0 in /usr/local/lib/python3.8/dist-packages (from spacy<3.5.0,>=3.4.0->fr-core-news-sm==3.4.0) (8.1.5)\n",
            "Requirement already satisfied: srsly<3.0.0,>=2.4.3 in /usr/local/lib/python3.8/dist-packages (from spacy<3.5.0,>=3.4.0->fr-core-news-sm==3.4.0) (2.4.5)\n",
            "Requirement already satisfied: murmurhash<1.1.0,>=0.28.0 in /usr/local/lib/python3.8/dist-packages (from spacy<3.5.0,>=3.4.0->fr-core-news-sm==3.4.0) (1.0.9)\n",
            "Requirement already satisfied: smart-open<7.0.0,>=5.2.1 in /usr/local/lib/python3.8/dist-packages (from spacy<3.5.0,>=3.4.0->fr-core-news-sm==3.4.0) (6.3.0)\n",
            "Requirement already satisfied: pyparsing!=3.0.5,>=2.0.2 in /usr/local/lib/python3.8/dist-packages (from packaging>=20.0->spacy<3.5.0,>=3.4.0->fr-core-news-sm==3.4.0) (3.0.9)\n",
            "Requirement already satisfied: typing-extensions>=4.1.0 in /usr/local/lib/python3.8/dist-packages (from pydantic!=1.8,!=1.8.1,<1.11.0,>=1.7.4->spacy<3.5.0,>=3.4.0->fr-core-news-sm==3.4.0) (4.4.0)\n",
            "Requirement already satisfied: idna<3,>=2.5 in /usr/local/lib/python3.8/dist-packages (from requests<3.0.0,>=2.13.0->spacy<3.5.0,>=3.4.0->fr-core-news-sm==3.4.0) (2.10)\n",
            "Requirement already satisfied: chardet<4,>=3.0.2 in /usr/local/lib/python3.8/dist-packages (from requests<3.0.0,>=2.13.0->spacy<3.5.0,>=3.4.0->fr-core-news-sm==3.4.0) (3.0.4)\n",
            "Requirement already satisfied: urllib3!=1.25.0,!=1.25.1,<1.26,>=1.21.1 in /usr/local/lib/python3.8/dist-packages (from requests<3.0.0,>=2.13.0->spacy<3.5.0,>=3.4.0->fr-core-news-sm==3.4.0) (1.24.3)\n",
            "Requirement already satisfied: certifi>=2017.4.17 in /usr/local/lib/python3.8/dist-packages (from requests<3.0.0,>=2.13.0->spacy<3.5.0,>=3.4.0->fr-core-news-sm==3.4.0) (2022.12.7)\n",
            "Requirement already satisfied: confection<1.0.0,>=0.0.1 in /usr/local/lib/python3.8/dist-packages (from thinc<8.2.0,>=8.1.0->spacy<3.5.0,>=3.4.0->fr-core-news-sm==3.4.0) (0.0.3)\n",
            "Requirement already satisfied: blis<0.8.0,>=0.7.8 in /usr/local/lib/python3.8/dist-packages (from thinc<8.2.0,>=8.1.0->spacy<3.5.0,>=3.4.0->fr-core-news-sm==3.4.0) (0.7.9)\n",
            "Requirement already satisfied: click<9.0.0,>=7.1.1 in /usr/local/lib/python3.8/dist-packages (from typer<0.8.0,>=0.3.0->spacy<3.5.0,>=3.4.0->fr-core-news-sm==3.4.0) (7.1.2)\n",
            "Requirement already satisfied: MarkupSafe>=0.23 in /usr/local/lib/python3.8/dist-packages (from jinja2->spacy<3.5.0,>=3.4.0->fr-core-news-sm==3.4.0) (2.0.1)\n",
            "Installing collected packages: fr-core-news-sm\n",
            "Successfully installed fr-core-news-sm-3.4.0\n",
            "\u001b[38;5;2m✔ Download and installation successful\u001b[0m\n",
            "You can now load the package via spacy.load('fr_core_news_sm')\n",
            "Looking in indexes: https://pypi.org/simple, https://us-python.pkg.dev/colab-wheels/public/simple/\n",
            "Requirement already satisfied: scikit-learn in /usr/local/lib/python3.8/dist-packages (1.0.2)\n",
            "Requirement already satisfied: scipy>=1.1.0 in /usr/local/lib/python3.8/dist-packages (from scikit-learn) (1.7.3)\n",
            "Requirement already satisfied: threadpoolctl>=2.0.0 in /usr/local/lib/python3.8/dist-packages (from scikit-learn) (3.1.0)\n",
            "Requirement already satisfied: numpy>=1.14.6 in /usr/local/lib/python3.8/dist-packages (from scikit-learn) (1.21.6)\n",
            "Requirement already satisfied: joblib>=0.11 in /usr/local/lib/python3.8/dist-packages (from scikit-learn) (1.2.0)\n"
          ]
        }
      ],
      "source": [
        "# Download the french language model\n",
        "!python -m spacy download fr_core_news_sm\n",
        "# Download scikit-learn\n",
        "!pip install scikit-learn\n",
        "#Prerequisities for vectorization and other common libraries. \n",
        "from sklearn.feature_extraction.text import TfidfVectorizer\n",
        "import pandas as pd\n",
        "import numpy as np\n",
        "import matplotlib.pyplot as plt\n",
        "%matplotlib inline\n",
        "from sklearn.preprocessing import OrdinalEncoder, OneHotEncoder, LabelEncoder\n",
        "from sklearn.model_selection import train_test_split\n",
        "#Prerequisities for the first four classification models. \n",
        "from sklearn.linear_model import LogisticRegression\n",
        "from sklearn.pipeline import Pipeline\n",
        "from sklearn.metrics import confusion_matrix, accuracy_score, precision_score, recall_score, f1_score\n",
        "from sklearn.neighbors import KNeighborsClassifier\n",
        "import matplotlib.pyplot as plt\n",
        "from sklearn.model_selection import GridSearchCV\n",
        "from sklearn.tree import DecisionTreeClassifier, plot_tree\n",
        "from sklearn.ensemble import RandomForestClassifier\n",
        "#Prerequisities for Neural Networks\n",
        "import torch\n",
        "import torch.nn as nn\n",
        "from sklearn.decomposition import PCA\n",
        "from torch.utils.data import Dataset, DataLoader"
      ]
    },
    {
      "cell_type": "code",
      "source": [
        "# Call the functions used\n",
        "%run functions.py"
      ],
      "metadata": {
        "id": "4Ii-Epc_3xL9"
      },
      "execution_count": 2,
      "outputs": []
    },
    {
      "cell_type": "code",
      "source": [
        "#Setting our seeds so we have the same results every time we run. \n",
        "np.random.seed = 0\n",
        "torch.manual_seed(0)"
      ],
      "metadata": {
        "colab": {
          "base_uri": "https://localhost:8080/"
        },
        "id": "dnTynm5d5p8R",
        "outputId": "bf96b907-5441-48d2-f234-1d73c36dd476"
      },
      "execution_count": 3,
      "outputs": [
        {
          "output_type": "execute_result",
          "data": {
            "text/plain": [
              "<torch._C.Generator at 0x7fae43208730>"
            ]
          },
          "metadata": {},
          "execution_count": 3
        }
      ]
    },
    {
      "cell_type": "markdown",
      "source": [
        "#### 1.2 Read training data and create as many unlabeled dataframes for our predictions as models we are training. "
      ],
      "metadata": {
        "id": "ridlZEzB31vI"
      }
    },
    {
      "cell_type": "code",
      "execution_count": 4,
      "metadata": {
        "id": "Wpy2cB6CdzjZ"
      },
      "outputs": [],
      "source": [
        "#Corpus will be our training data for the whole set. \n",
        "corpus = pd.read_csv(\"training_data.csv\")"
      ]
    },
    {
      "cell_type": "code",
      "execution_count": 5,
      "metadata": {
        "id": "uXI41aawJcSN"
      },
      "outputs": [],
      "source": [
        "unlabel_data_LR = pd.read_csv(\"unlabelled_test_data.csv\")\n",
        "unlabel_data_knn = pd.read_csv(\"unlabelled_test_data.csv\")\n",
        "unlabel_data_tree = pd.read_csv(\"unlabelled_test_data.csv\")\n",
        "unlabel_data_forest = pd.read_csv(\"unlabelled_test_data.csv\")\n",
        "unlabel_data_nn = pd.read_csv(\"unlabelled_test_data.csv\")"
      ]
    },
    {
      "cell_type": "code",
      "source": [
        "submission_data = pd.read_csv('sample_submission.csv')"
      ],
      "metadata": {
        "id": "QTxkQWYW4epx"
      },
      "execution_count": 6,
      "outputs": []
    },
    {
      "cell_type": "markdown",
      "metadata": {
        "id": "FfTgL1erjqQ6"
      },
      "source": [
        "### 2. My models\n",
        "\n",
        "\n",
        "\n"
      ]
    },
    {
      "cell_type": "markdown",
      "source": [
        "#### 2.1.Baseline\n",
        "What is the baseline for this classification problem?"
      ],
      "metadata": {
        "id": "B_7SJOQFQHz-"
      }
    },
    {
      "cell_type": "code",
      "execution_count": 7,
      "metadata": {
        "colab": {
          "base_uri": "https://localhost:8080/"
        },
        "id": "t4O_pYiHpiRd",
        "outputId": "93710955-b682-4cef-c474-d6c7a1443f9c"
      },
      "outputs": [
        {
          "output_type": "execute_result",
          "data": {
            "text/plain": [
              "A1    0.1694\n",
              "C2    0.1681\n",
              "C1    0.1662\n",
              "B1    0.1656\n",
              "A2    0.1656\n",
              "B2    0.1650\n",
              "Name: difficulty, dtype: float64"
            ]
          },
          "metadata": {},
          "execution_count": 7
        }
      ],
      "source": [
        "base_rate = corpus['difficulty'].value_counts()/len(corpus['difficulty'])\n",
        "base_rate.round(4)"
      ]
    },
    {
      "cell_type": "code",
      "source": [
        "print(f\"Base Rate:\\n{base_rate.max()*100}%\")"
      ],
      "metadata": {
        "colab": {
          "base_uri": "https://localhost:8080/"
        },
        "id": "WotnEBDthov_",
        "outputId": "90fff614-3154-4f87-ca59-c899febf1cdc"
      },
      "execution_count": 8,
      "outputs": [
        {
          "output_type": "stream",
          "name": "stdout",
          "text": [
            "Base Rate:\n",
            "16.9375%\n"
          ]
        }
      ]
    },
    {
      "cell_type": "markdown",
      "metadata": {
        "id": "SlvbPYa0k78l"
      },
      "source": [
        "#### 2.2. Logistic Regression (without data cleaning)\n",
        "\n",
        "Train a simple logistic regression model using a Tfidf vectoriser."
      ]
    },
    {
      "cell_type": "code",
      "execution_count": 9,
      "metadata": {
        "id": "o5XA_bAXC9_n"
      },
      "outputs": [],
      "source": [
        "tfidf_vector = TfidfVectorizer()"
      ]
    },
    {
      "cell_type": "code",
      "source": [
        "corpus = encode_difficulty(corpus)"
      ],
      "metadata": {
        "id": "d1fuKMLJ7ZOc"
      },
      "execution_count": 10,
      "outputs": []
    },
    {
      "cell_type": "code",
      "execution_count": 11,
      "metadata": {
        "id": "xrZvqoCkC9_q"
      },
      "outputs": [],
      "source": [
        "#Spliting x and y, test and train.\n",
        "X = corpus['sentence']\n",
        "y= corpus['difficulty']\n",
        "X_train, X_test, y_train, y_test = train_test_split(X, y, test_size=0.2, shuffle=True, random_state=0)"
      ]
    },
    {
      "cell_type": "code",
      "execution_count": 12,
      "metadata": {
        "id": "r0Q2TeuyC9_s"
      },
      "outputs": [],
      "source": [
        "classifier = LogisticRegression()"
      ]
    },
    {
      "cell_type": "code",
      "execution_count": 13,
      "metadata": {
        "colab": {
          "base_uri": "https://localhost:8080/"
        },
        "id": "pmMNLQTYC9_s",
        "outputId": "cf5e9ad4-5bd8-4778-a062-e865b211ac54"
      },
      "outputs": [
        {
          "output_type": "execute_result",
          "data": {
            "text/plain": [
              "Pipeline(steps=[('vectorizer', TfidfVectorizer()),\n",
              "                ('classifier', LogisticRegression())])"
            ]
          },
          "metadata": {},
          "execution_count": 13
        }
      ],
      "source": [
        "pipe = Pipeline([('vectorizer', tfidf_vector),\n",
        "                 ('classifier', classifier)])\n",
        "\n",
        "# Fit model on training set\n",
        "pipe.fit(X_train, y_train)"
      ]
    },
    {
      "cell_type": "code",
      "execution_count": 14,
      "metadata": {
        "id": "Iv2ML1I4C9_t"
      },
      "outputs": [],
      "source": [
        "# Predictions\n",
        "y_pred = pipe.predict(X_test)"
      ]
    },
    {
      "cell_type": "markdown",
      "metadata": {
        "id": "wWfEmOxODYeg"
      },
      "source": [
        "Calculate accuracy, precision, recall and F1 score on the test set.\n"
      ]
    },
    {
      "cell_type": "code",
      "execution_count": 15,
      "metadata": {
        "colab": {
          "base_uri": "https://localhost:8080/"
        },
        "id": "rKgmr_ITC9_v",
        "outputId": "d50603b0-ed31-4b15-ee51-097034c75d68"
      },
      "outputs": [
        {
          "output_type": "stream",
          "name": "stdout",
          "text": [
            "CONFUSION MATRIX:\n",
            "[[93 31 21 10  4  2]\n",
            " [54 60 30  6  6  8]\n",
            " [12 38 64 17  9 20]\n",
            " [ 6  6 15 66 27 24]\n",
            " [ 4  4 10 37 73 45]\n",
            " [ 7  8  8 19 24 92]]\n",
            "ACCURACY SCORE:\n",
            "0.4667\n",
            "CLASSIFICATION REPORT:\n",
            "\tPrecision: 0.4656\n",
            "\tRecall: 0.4667\n",
            "\tF1_Score: 0.4640\n"
          ]
        }
      ],
      "source": [
        "evaluate(y_test, y_pred)"
      ]
    },
    {
      "cell_type": "code",
      "source": [
        "accuracyscore_lr = accuracy_score(y_pred, y_test)"
      ],
      "metadata": {
        "id": "BKVYpzu2D-9-"
      },
      "execution_count": 16,
      "outputs": []
    },
    {
      "cell_type": "markdown",
      "metadata": {
        "id": "9D3_dp3apcmr"
      },
      "source": [
        "Identify a few examples of sentences that are not well classified."
      ]
    },
    {
      "cell_type": "code",
      "execution_count": 17,
      "metadata": {
        "colab": {
          "base_uri": "https://localhost:8080/"
        },
        "id": "AON61hTB8txZ",
        "outputId": "478280a0-2b7b-401d-ec0a-3f1e8cc19e89"
      },
      "outputs": [
        {
          "output_type": "execute_result",
          "data": {
            "text/plain": [
              "2255    C'est en décembre 1967, après bien des invecti...\n",
              "608     Giscard va pourtant réussir à transformer ce r...\n",
              "2856    Un choix difficile mais important : le public ...\n",
              "1889    Le débat porte plutôt sur l'utilité d'une tell...\n",
              "2358    Il faut du temps et du courage pour soigner to...\n",
              "Name: sentence, dtype: object"
            ]
          },
          "metadata": {},
          "execution_count": 17
        }
      ],
      "source": [
        "#Examples of sentences that are not well classified.\n",
        "X_test[y_test != y_pred].head()"
      ]
    },
    {
      "cell_type": "markdown",
      "metadata": {
        "id": "9TTEiuXasNFg"
      },
      "source": [
        "Generate your first predictions on the `unlabelled_test_data.csv`. make sure your predictions match the format of the `unlabelled_test_data.csv`."
      ]
    },
    {
      "cell_type": "code",
      "execution_count": 18,
      "metadata": {
        "id": "tb57ZPivJe_e"
      },
      "outputs": [],
      "source": [
        "unlabel_data_LR['difficulty'] = pipe.predict(unlabel_data_LR['sentence'])"
      ]
    },
    {
      "cell_type": "code",
      "source": [
        "predictionsLR = prepare_submission(unlabel_data_LR)"
      ],
      "metadata": {
        "id": "_y2a55ev9T9R"
      },
      "execution_count": 19,
      "outputs": []
    },
    {
      "cell_type": "code",
      "source": [
        "probabilities_LR = get_prediction_probabilities(pipe, unlabel_data_LR)"
      ],
      "metadata": {
        "colab": {
          "base_uri": "https://localhost:8080/"
        },
        "id": "wc1tQi6A_zMl",
        "outputId": "5e82e4e7-b3b6-4c44-b27b-340e79e9a783"
      },
      "execution_count": 20,
      "outputs": [
        {
          "output_type": "stream",
          "name": "stdout",
          "text": [
            "Minimum value: 0.19\n",
            "Maximum value: 0.82\n"
          ]
        }
      ]
    },
    {
      "cell_type": "code",
      "execution_count": 21,
      "metadata": {
        "id": "HfniMhQdvIFe"
      },
      "outputs": [],
      "source": [
        "predictionsLR.to_csv(\"Predictions_LR_tudor.csv\", index=False)"
      ]
    },
    {
      "cell_type": "markdown",
      "metadata": {
        "id": "vXG_yIG_pQ8t"
      },
      "source": [
        "#### 2.3. KNN (without data cleaning)\n",
        "\n",
        "Train a KNN classification model using a Tfidf vectoriser. Show the accuracy, precision, recall and F1 score on the test set."
      ]
    },
    {
      "cell_type": "code",
      "execution_count": 22,
      "metadata": {
        "id": "UoInScPWPuxa"
      },
      "outputs": [],
      "source": [
        "#We start with a value of p of default 2 and knn neighbours of default 5.\n",
        "knn = KNeighborsClassifier(n_neighbors=5, weights = \"uniform\", p=2)"
      ]
    },
    {
      "cell_type": "code",
      "execution_count": 23,
      "metadata": {
        "colab": {
          "base_uri": "https://localhost:8080/"
        },
        "id": "GPRjD1rSqKKZ",
        "outputId": "8c0f7f65-df74-4713-b9f9-089f3d0255b1"
      },
      "outputs": [
        {
          "output_type": "execute_result",
          "data": {
            "text/plain": [
              "Pipeline(steps=[('vectorizer', TfidfVectorizer()),\n",
              "                ('KNN', KNeighborsClassifier())])"
            ]
          },
          "metadata": {},
          "execution_count": 23
        }
      ],
      "source": [
        "pipe_knn = Pipeline([('vectorizer', tfidf_vector),\n",
        "                 ('KNN', knn)])\n",
        "\n",
        "# Fit model on training set\n",
        "pipe_knn.fit(X_train, y_train)"
      ]
    },
    {
      "cell_type": "code",
      "execution_count": 24,
      "metadata": {
        "id": "csdLNOnLRh6Z"
      },
      "outputs": [],
      "source": [
        "# Predictions\n",
        "y_pred_knn = pipe_knn.predict(X_test)"
      ]
    },
    {
      "cell_type": "code",
      "execution_count": 25,
      "metadata": {
        "colab": {
          "base_uri": "https://localhost:8080/"
        },
        "id": "28gGTnjnRkmS",
        "outputId": "baa923f6-bc65-48ce-9233-4f822892eb53"
      },
      "outputs": [
        {
          "output_type": "stream",
          "name": "stdout",
          "text": [
            "CONFUSION MATRIX:\n",
            "[[121  28   8   1   1   2]\n",
            " [ 98  51  12   1   1   1]\n",
            " [ 81  39  33   3   1   3]\n",
            " [ 49  30  19  29   3  14]\n",
            " [ 48  36  29  15  29  16]\n",
            " [ 37  29  17  23   9  43]]\n",
            "ACCURACY SCORE:\n",
            "0.3187\n",
            "CLASSIFICATION REPORT:\n",
            "\tPrecision: 0.4030\n",
            "\tRecall: 0.3187\n",
            "\tF1_Score: 0.3022\n"
          ]
        }
      ],
      "source": [
        "evaluate(y_test, y_pred_knn)"
      ]
    },
    {
      "cell_type": "markdown",
      "metadata": {
        "id": "D6rH2Hx0qtB2"
      },
      "source": [
        "Try to improve it by tuning the hyper parameters (`n_neighbors`,   `p`, `weights`)."
      ]
    },
    {
      "cell_type": "code",
      "source": [
        "# Define a grid of possible values for p\n",
        "param_grid = {\"KNN__p\": [1, 2,]}\n",
        "\n",
        "# Use GridSearchCV to search for the best value of p\n",
        "grid = GridSearchCV(pipe_knn, param_grid, cv=5)\n",
        "grid.fit(X_train, y_train)\n",
        "\n",
        "# Print the best value of p found by the grid search\n",
        "print(\"Best value of p: \", grid.best_params_[\"KNN__p\"])"
      ],
      "metadata": {
        "colab": {
          "base_uri": "https://localhost:8080/"
        },
        "id": "8gCQmRmBwNC9",
        "outputId": "be0891a9-bbd4-41ab-ec8e-9c5d9662582d"
      },
      "execution_count": 26,
      "outputs": [
        {
          "output_type": "stream",
          "name": "stdout",
          "text": [
            "Best value of p:  2\n"
          ]
        }
      ]
    },
    {
      "cell_type": "code",
      "source": [
        "# Define a grid of possible values for the weights\n",
        "param_grid = {\"KNN__weights\": ['uniform', 'distance',]}\n",
        "\n",
        "# Use GridSearchCV to search for the best weights\n",
        "grid = GridSearchCV(pipe_knn, param_grid, cv=5)\n",
        "grid.fit(X_train, y_train)\n",
        "\n",
        "# Print the best weight parameter found by the grid search\n",
        "print(\"Best weights: \", grid.best_params_[\"KNN__weights\"])"
      ],
      "metadata": {
        "colab": {
          "base_uri": "https://localhost:8080/"
        },
        "id": "tAmPM0LhwqAl",
        "outputId": "9bad3583-0e18-47fa-ea6f-23d35b2c1f75"
      },
      "execution_count": 27,
      "outputs": [
        {
          "output_type": "stream",
          "name": "stdout",
          "text": [
            "Best weights:  distance\n"
          ]
        }
      ]
    },
    {
      "cell_type": "code",
      "execution_count": 28,
      "metadata": {
        "colab": {
          "base_uri": "https://localhost:8080/"
        },
        "id": "wRy18Ce_qxPc",
        "outputId": "b4b82369-e322-499e-e7f9-03af3dc77c35"
      },
      "outputs": [
        {
          "output_type": "stream",
          "name": "stdout",
          "text": [
            "ACCURACY SCORE(k=1, p=2):\n",
            "0.3667\n",
            "ACCURACY SCORE(k=3, p=2):\n",
            "0.3615\n",
            "ACCURACY SCORE(k=5, p=2):\n",
            "0.3490\n",
            "ACCURACY SCORE(k=7, p=2):\n",
            "0.3594\n",
            "ACCURACY SCORE(k=9, p=2):\n",
            "0.3479\n",
            "ACCURACY SCORE(k=11, p=2):\n",
            "0.3542\n",
            "ACCURACY SCORE(k=13, p=2):\n",
            "0.3490\n",
            "ACCURACY SCORE(k=15, p=2):\n",
            "0.3521\n"
          ]
        }
      ],
      "source": [
        "# Now that we know the best value for p and the best weight parameter let's find out the best value for the neighbours. \n",
        "\n",
        "for k in [1, 3, 5, 7, 9, 11, 13, 15]:\n",
        "  knn = KNeighborsClassifier(n_neighbors=k, weights = \"distance\", p = 2)\n",
        "  pipe_knn = Pipeline([('vectorizer', tfidf_vector),\n",
        "                 ('KNN', knn)])\n",
        "\n",
        "# Fit model on training set\n",
        "  pipe_knn.fit(X_train, y_train)\n",
        "  # Predictions\n",
        "  y_pred_knn = pipe_knn.predict(X_test)\n",
        "  print(f\"ACCURACY SCORE(k={k}, p=2):\\n{accuracy_score(y_test, y_pred_knn):.4f}\")"
      ]
    },
    {
      "cell_type": "code",
      "source": [
        "#Now we have our best classifier:\n",
        "knn2 = KNeighborsClassifier(n_neighbors=5, weights = \"distance\", p=2)\n",
        "pipe_knn2 = Pipeline([('vectorizer', tfidf_vector),\n",
        "                 ('KNN', knn2)])\n",
        "\n",
        "# Fit model on training set\n",
        "pipe_knn2.fit(X_train, y_train)\n",
        "y_pred_knn2 = pipe_knn2.predict(X_test)\n",
        "evaluate(y_test, y_pred_knn2)"
      ],
      "metadata": {
        "colab": {
          "base_uri": "https://localhost:8080/"
        },
        "id": "UMHquZOkp70A",
        "outputId": "55fce578-dc23-4e97-97b1-7753642b8b50"
      },
      "execution_count": 29,
      "outputs": [
        {
          "output_type": "stream",
          "name": "stdout",
          "text": [
            "CONFUSION MATRIX:\n",
            "[[113  29  14   1   1   3]\n",
            " [ 87  56  15   4   1   1]\n",
            " [ 66  43  42   5   1   3]\n",
            " [ 33  29  21  36   3  22]\n",
            " [ 40  27  28  23  31  24]\n",
            " [ 34  24  14  17  12  57]]\n",
            "ACCURACY SCORE:\n",
            "0.3490\n",
            "CLASSIFICATION REPORT:\n",
            "\tPrecision: 0.4111\n",
            "\tRecall: 0.3490\n",
            "\tF1_Score: 0.3373\n"
          ]
        }
      ]
    },
    {
      "cell_type": "code",
      "source": [
        "accuracyscore_knn = accuracy_score(y_pred_knn2, y_test)"
      ],
      "metadata": {
        "id": "rx2RXqrsEh0g"
      },
      "execution_count": 30,
      "outputs": []
    },
    {
      "cell_type": "code",
      "source": [
        "#The accuracy has improved by 3 percentual points. "
      ],
      "metadata": {
        "id": "0pixad6V1HXf"
      },
      "execution_count": 31,
      "outputs": []
    },
    {
      "cell_type": "markdown",
      "metadata": {
        "id": "YRkoJ9Vkarow"
      },
      "source": [
        "Generate your first predictions on the `unlabelled_test_data.csv`. make sure your predictions match the format of the `unlabelled_test_data.csv`."
      ]
    },
    {
      "cell_type": "code",
      "execution_count": 32,
      "metadata": {
        "id": "AUGBMZjaa-fK"
      },
      "outputs": [],
      "source": [
        "unlabel_data_knn['difficulty'] = pipe_knn2.predict(unlabel_data_knn['sentence'])"
      ]
    },
    {
      "cell_type": "code",
      "source": [
        "predictionsKNN = prepare_submission(unlabel_data_knn)"
      ],
      "metadata": {
        "id": "JaJg4rYzPKtU"
      },
      "execution_count": 33,
      "outputs": []
    },
    {
      "cell_type": "code",
      "source": [
        "probabilities_KNN = get_prediction_probabilities(pipe, unlabel_data_knn)"
      ],
      "metadata": {
        "colab": {
          "base_uri": "https://localhost:8080/"
        },
        "outputId": "54f91965-cc95-4c46-ae4c-58a9e48e6e8c",
        "id": "00QdRWADPKtV"
      },
      "execution_count": 34,
      "outputs": [
        {
          "output_type": "stream",
          "name": "stdout",
          "text": [
            "Minimum value: 0.19\n",
            "Maximum value: 0.82\n"
          ]
        }
      ]
    },
    {
      "cell_type": "markdown",
      "metadata": {
        "id": "FFNH1WgNqc62"
      },
      "source": [
        "#### 2.4. Decision Tree Classifier (without data cleaning)\n",
        "\n",
        "Here we train a Decison Tree classifier, using a Tfidf vectoriser. We also show the accuracy, precision, recall and F1 score on the test set."
      ]
    },
    {
      "cell_type": "code",
      "execution_count": 35,
      "metadata": {
        "id": "d4PByPdGq0FV"
      },
      "outputs": [],
      "source": [
        "tree = DecisionTreeClassifier()"
      ]
    },
    {
      "cell_type": "code",
      "execution_count": 36,
      "metadata": {
        "colab": {
          "base_uri": "https://localhost:8080/"
        },
        "id": "I9qLcAJ3E1cG",
        "outputId": "2e6f4828-e2b4-401c-9f9a-987edcf21b67"
      },
      "outputs": [
        {
          "output_type": "execute_result",
          "data": {
            "text/plain": [
              "Pipeline(steps=[('vectorizer', TfidfVectorizer()),\n",
              "                ('Tree', DecisionTreeClassifier())])"
            ]
          },
          "metadata": {},
          "execution_count": 36
        }
      ],
      "source": [
        "pipe_tree = Pipeline([('vectorizer', tfidf_vector),\n",
        "                 ('Tree', tree)])\n",
        "\n",
        "# Fit model on training set\n",
        "pipe_tree.fit(X_train, y_train)"
      ]
    },
    {
      "cell_type": "code",
      "execution_count": 37,
      "metadata": {
        "id": "YL5vk9YwCnKk"
      },
      "outputs": [],
      "source": [
        "y_pred_tree = pipe_tree.predict(X_test)"
      ]
    },
    {
      "cell_type": "code",
      "execution_count": 38,
      "metadata": {
        "colab": {
          "base_uri": "https://localhost:8080/"
        },
        "id": "2vregP4LCnKm",
        "outputId": "51a11736-922a-426d-81f4-c3a94026a465"
      },
      "outputs": [
        {
          "output_type": "stream",
          "name": "stdout",
          "text": [
            "CONFUSION MATRIX:\n",
            "[[81 40 24  8  4  4]\n",
            " [46 55 35 17  4  7]\n",
            " [26 40 41 24 18 11]\n",
            " [ 7 17 29 42 28 21]\n",
            " [12 18 35 39 39 30]\n",
            " [13 13 30 34 34 34]]\n",
            "ACCURACY SCORE:\n",
            "0.3042\n",
            "CLASSIFICATION REPORT:\n",
            "\tPrecision: 0.3060\n",
            "\tRecall: 0.3042\n",
            "\tF1_Score: 0.3013\n"
          ]
        }
      ],
      "source": [
        "evaluate(y_test, y_pred_tree)"
      ]
    },
    {
      "cell_type": "markdown",
      "metadata": {
        "id": "yQHjvOp7q11L"
      },
      "source": [
        "We  improve it by tuning the hyper parameters (`max_depth`, the depth of the decision tree)."
      ]
    },
    {
      "cell_type": "code",
      "source": [
        "# Define a grid of possible depths:\n",
        "param_grid = {\"Tree__max_depth\": [1, 2,3,4,5,6,7,8,9,10,11,12,13,14,15,16,17,18,19,20,21,22,23,24,25]}\n",
        "\n",
        "# Use GridSearchCV to search for the best number of maximal depths:\n",
        "grid = GridSearchCV(pipe_tree, param_grid, cv=5)\n",
        "grid.fit(X_train, y_train)\n",
        "\n",
        "# Print the best value of the max depth found by the grid search\n",
        "print(\"Best value depth: \", grid.best_params_[\"Tree__max_depth\"])"
      ],
      "metadata": {
        "colab": {
          "base_uri": "https://localhost:8080/"
        },
        "id": "daCuC0zRzVrl",
        "outputId": "49af7b47-7679-47cb-d213-1b1e1282d5fd"
      },
      "execution_count": 39,
      "outputs": [
        {
          "output_type": "stream",
          "name": "stdout",
          "text": [
            "Best value depth:  19\n"
          ]
        }
      ]
    },
    {
      "cell_type": "code",
      "source": [
        "#Now we have our best classifier:\n",
        "tree2 = DecisionTreeClassifier(max_depth=15, random_state=0)\n",
        "pipe_tree2 = Pipeline([('vectorizer', tfidf_vector),\n",
        "                 ('Tree', tree2)])\n",
        "\n",
        "# Fit model on training set\n",
        "pipe_tree2.fit(X_train, y_train)\n",
        "y_pred_tree2 = pipe_tree2.predict(X_test)\n",
        "evaluate(y_test, y_pred_tree2)"
      ],
      "metadata": {
        "colab": {
          "base_uri": "https://localhost:8080/"
        },
        "id": "8xKzR3oV0qsV",
        "outputId": "005be6bf-192e-42ca-e485-2aecfe184f22"
      },
      "execution_count": 40,
      "outputs": [
        {
          "output_type": "stream",
          "name": "stdout",
          "text": [
            "CONFUSION MATRIX:\n",
            "[[91 34 11 21  2  2]\n",
            " [68 51 19 17  2  7]\n",
            " [39 34 30 29 15 13]\n",
            " [16 12 19 66 14 17]\n",
            " [15 15 17 59 36 31]\n",
            " [22  9 21 48 24 34]]\n",
            "ACCURACY SCORE:\n",
            "0.3208\n",
            "CLASSIFICATION REPORT:\n",
            "\tPrecision: 0.3246\n",
            "\tRecall: 0.3208\n",
            "\tF1_Score: 0.3079\n"
          ]
        }
      ]
    },
    {
      "cell_type": "code",
      "source": [
        "#The accuracy has improved by almost two percentual points."
      ],
      "metadata": {
        "id": "plWogCKk1wPB"
      },
      "execution_count": 41,
      "outputs": []
    },
    {
      "cell_type": "code",
      "source": [
        "accuracyscore_tree = accuracy_score(y_pred_tree2, y_test)"
      ],
      "metadata": {
        "id": "aqRleeTIEyYK"
      },
      "execution_count": 42,
      "outputs": []
    },
    {
      "cell_type": "markdown",
      "metadata": {
        "id": "O1iGgox82N4V"
      },
      "source": [
        "We have generated our  predictions on the `unlabelled_test_data.csv`. by matching the format of the `unlabelled_test_data.csv`."
      ]
    },
    {
      "cell_type": "code",
      "execution_count": 43,
      "metadata": {
        "id": "yJw54CUe1Qp7"
      },
      "outputs": [],
      "source": [
        "unlabel_data_tree['difficulty'] = pipe_tree2.predict(unlabel_data_tree['sentence'])"
      ]
    },
    {
      "cell_type": "code",
      "source": [
        "predictionsTREE = prepare_submission(unlabel_data_tree)"
      ],
      "metadata": {
        "id": "895I7n4IP4fv"
      },
      "execution_count": 44,
      "outputs": []
    },
    {
      "cell_type": "code",
      "source": [
        "probabilities_TREE = get_prediction_probabilities(pipe, unlabel_data_tree)"
      ],
      "metadata": {
        "colab": {
          "base_uri": "https://localhost:8080/"
        },
        "outputId": "0879d255-a0b7-46f7-c42d-4d04605545b5",
        "id": "TK3q7feRP4fv"
      },
      "execution_count": 45,
      "outputs": [
        {
          "output_type": "stream",
          "name": "stdout",
          "text": [
            "Minimum value: 0.19\n",
            "Maximum value: 0.82\n"
          ]
        }
      ]
    },
    {
      "cell_type": "markdown",
      "metadata": {
        "id": "M52Ys3hcq7ku"
      },
      "source": [
        "#### 2.5. Random Forest Classifier (without data cleaning)\n",
        "\n",
        "We tried a Random Forest Classifier, using a Tfidf vectoriser. We showed the accuracy, precision, recall and F1 score on the test set."
      ]
    },
    {
      "cell_type": "code",
      "source": [
        "forest = RandomForestClassifier()"
      ],
      "metadata": {
        "id": "k8r77DV83qVN"
      },
      "execution_count": 46,
      "outputs": []
    },
    {
      "cell_type": "code",
      "source": [
        "pipe_forest = Pipeline([('vectorizer', tfidf_vector),\n",
        "                 ('clf', forest)])\n",
        "\n",
        "# Fit model on training set\n",
        "pipe_forest.fit(X_train, y_train)\n",
        "y_pred_forest = pipe_forest.predict(X_test)\n",
        "evaluate(y_test, y_pred_forest)"
      ],
      "metadata": {
        "colab": {
          "base_uri": "https://localhost:8080/"
        },
        "id": "nYSCcMtF3F1t",
        "outputId": "6b7ecba8-7853-485a-a0e5-78d68797db94"
      },
      "execution_count": 47,
      "outputs": [
        {
          "output_type": "stream",
          "name": "stdout",
          "text": [
            "CONFUSION MATRIX:\n",
            "[[124  18  12   5   2   0]\n",
            " [ 70  63  21   8   1   1]\n",
            " [ 32  42  53  24   5   4]\n",
            " [ 17  13  16  66  20  12]\n",
            " [ 19  10  24  55  46  19]\n",
            " [ 16  13  10  33  23  63]]\n",
            "ACCURACY SCORE:\n",
            "0.4323\n",
            "CLASSIFICATION REPORT:\n",
            "\tPrecision: 0.4495\n",
            "\tRecall: 0.4323\n",
            "\tF1_Score: 0.4223\n"
          ]
        }
      ]
    },
    {
      "cell_type": "markdown",
      "metadata": {
        "id": "T2DAVn-W4aLY"
      },
      "source": [
        "Tried to improve it by tuning the hyper parameters (`max_depth`, the depth of the decision tree)."
      ]
    },
    {
      "cell_type": "code",
      "source": [
        "# Define a grid \n",
        "param_grid = {\"clf__max_depth\": [None,1, 2,3,4,5,6,7,8,9,10],\"clf__n_estimators\": [10,50,100,200],\"clf__min_samples_split\": [2,5,10],\"clf__min_samples_leaf\": [1,2,5]}\n",
        "\n",
        "# Use GridSearchCV to search for the best value of p\n",
        "grid = GridSearchCV(pipe_forest, param_grid, cv=5)\n",
        "grid.fit(X_train, y_train)\n",
        "# Print the best value of the parameters found by the grid search\n",
        "print(\"Best hyperparameters: \", grid.best_params_)"
      ],
      "metadata": {
        "id": "i_cVoiU340T9",
        "colab": {
          "base_uri": "https://localhost:8080/"
        },
        "outputId": "97e7cd28-9210-448f-dc89-32e531b0c375"
      },
      "execution_count": 48,
      "outputs": [
        {
          "output_type": "stream",
          "name": "stdout",
          "text": [
            "Best hyperparameters:  {'clf__max_depth': None, 'clf__min_samples_leaf': 2, 'clf__min_samples_split': 5, 'clf__n_estimators': 200}\n"
          ]
        }
      ]
    },
    {
      "cell_type": "code",
      "source": [
        "#Now we have our best classifier:\n",
        "forest2 = RandomForestClassifier(max_depth=None, n_estimators=200,min_samples_split=10,min_samples_leaf=1)\n",
        "pipe_forest2 = Pipeline([('vectorizer', tfidf_vector),\n",
        "                 ('clf', forest2)])\n",
        "\n",
        "# Fit model on training set\n",
        "pipe_forest2.fit(X_train, y_train)\n",
        "y_pred_forest2 = pipe_forest2.predict(X_test)\n",
        "evaluate(y_test, y_pred_forest2)"
      ],
      "metadata": {
        "id": "cq3LA2Gz5aXV",
        "colab": {
          "base_uri": "https://localhost:8080/"
        },
        "outputId": "2de82b0f-53f6-4a13-8af6-258ef4fab2a8"
      },
      "execution_count": 49,
      "outputs": [
        {
          "output_type": "stream",
          "name": "stdout",
          "text": [
            "CONFUSION MATRIX:\n",
            "[[117  20  13   9   1   1]\n",
            " [ 71  51  30   9   1   2]\n",
            " [ 34  33  53  25   6   9]\n",
            " [ 13   9  18  65  20  19]\n",
            " [ 16   6  19  55  48  29]\n",
            " [ 14  11  13  29  22  69]]\n",
            "ACCURACY SCORE:\n",
            "0.4198\n",
            "CLASSIFICATION REPORT:\n",
            "\tPrecision: 0.4286\n",
            "\tRecall: 0.4198\n",
            "\tF1_Score: 0.4101\n"
          ]
        }
      ]
    },
    {
      "cell_type": "code",
      "source": [
        "accuracyscore_forest = accuracy_score(y_pred_forest2, y_test)"
      ],
      "metadata": {
        "id": "9WRRyiT0E8fz"
      },
      "execution_count": 50,
      "outputs": []
    },
    {
      "cell_type": "markdown",
      "metadata": {
        "id": "OWmpef4i2QNd"
      },
      "source": [
        "Here we generate our  predictions on the `unlabelled_test_data.csv`. make sure your predictions match the format of the `unlabelled_test_data.csv`."
      ]
    },
    {
      "cell_type": "code",
      "execution_count": 51,
      "metadata": {
        "id": "xpiPseSd2bC8"
      },
      "outputs": [],
      "source": [
        "unlabel_data_forest['difficulty'] = pipe_forest2.predict(unlabel_data_forest['sentence'])"
      ]
    },
    {
      "cell_type": "code",
      "source": [
        "predictionsFOREST = prepare_submission(unlabel_data_forest)"
      ],
      "metadata": {
        "id": "36VJK56TQQci"
      },
      "execution_count": 52,
      "outputs": []
    },
    {
      "cell_type": "code",
      "source": [
        "probabilities_FOREST= get_prediction_probabilities(pipe, unlabel_data_forest)"
      ],
      "metadata": {
        "id": "Y9jzfNfpQQcj",
        "colab": {
          "base_uri": "https://localhost:8080/"
        },
        "outputId": "e956db7e-ea02-4b83-9650-003d4fdabca9"
      },
      "execution_count": 53,
      "outputs": [
        {
          "output_type": "stream",
          "name": "stdout",
          "text": [
            "Minimum value: 0.19\n",
            "Maximum value: 0.82\n"
          ]
        }
      ]
    },
    {
      "cell_type": "markdown",
      "metadata": {
        "id": "z-8_3MK1rpZr"
      },
      "source": [
        "#### 2.6. Neural Networks including PCA\n"
      ]
    },
    {
      "cell_type": "code",
      "execution_count": 54,
      "metadata": {
        "id": "_QtgzKWYm8wP"
      },
      "outputs": [],
      "source": [
        "corpus_NN = pd.read_csv(\"training_data.csv\")"
      ]
    },
    {
      "cell_type": "code",
      "source": [
        "# Use function for OrdinalEncoder\n",
        "encode_difficulty(corpus_NN)"
      ],
      "metadata": {
        "id": "Roxe9qAspmfg",
        "colab": {
          "base_uri": "https://localhost:8080/",
          "height": 424
        },
        "outputId": "0fd6e40b-785f-4346-bb01-ec2355005b66"
      },
      "execution_count": 55,
      "outputs": [
        {
          "output_type": "execute_result",
          "data": {
            "text/plain": [
              "        id                                           sentence  difficulty\n",
              "0        0  Les coûts kilométriques réels peuvent diverger...           4\n",
              "1        1  Le bleu, c'est ma couleur préférée mais je n'a...           0\n",
              "2        2  Le test de niveau en français est sur le site ...           0\n",
              "3        3           Est-ce que ton mari est aussi de Boston?           0\n",
              "4        4  Dans les écoles de commerce, dans les couloirs...           2\n",
              "...    ...                                                ...         ...\n",
              "4795  4795  C'est pourquoi, il décida de remplacer les hab...           3\n",
              "4796  4796  Il avait une de ces pâleurs splendides qui don...           4\n",
              "4797  4797  Et le premier samedi de chaque mois, venez ren...           1\n",
              "4798  4798  Les coûts liés à la journalisation n'étant pas...           5\n",
              "4799  4799  Sur le sable, la mer haletait de toute la resp...           5\n",
              "\n",
              "[4800 rows x 3 columns]"
            ],
            "text/html": [
              "\n",
              "  <div id=\"df-673a0dfd-97c0-465f-9b46-f5c9ca4493be\">\n",
              "    <div class=\"colab-df-container\">\n",
              "      <div>\n",
              "<style scoped>\n",
              "    .dataframe tbody tr th:only-of-type {\n",
              "        vertical-align: middle;\n",
              "    }\n",
              "\n",
              "    .dataframe tbody tr th {\n",
              "        vertical-align: top;\n",
              "    }\n",
              "\n",
              "    .dataframe thead th {\n",
              "        text-align: right;\n",
              "    }\n",
              "</style>\n",
              "<table border=\"1\" class=\"dataframe\">\n",
              "  <thead>\n",
              "    <tr style=\"text-align: right;\">\n",
              "      <th></th>\n",
              "      <th>id</th>\n",
              "      <th>sentence</th>\n",
              "      <th>difficulty</th>\n",
              "    </tr>\n",
              "  </thead>\n",
              "  <tbody>\n",
              "    <tr>\n",
              "      <th>0</th>\n",
              "      <td>0</td>\n",
              "      <td>Les coûts kilométriques réels peuvent diverger...</td>\n",
              "      <td>4</td>\n",
              "    </tr>\n",
              "    <tr>\n",
              "      <th>1</th>\n",
              "      <td>1</td>\n",
              "      <td>Le bleu, c'est ma couleur préférée mais je n'a...</td>\n",
              "      <td>0</td>\n",
              "    </tr>\n",
              "    <tr>\n",
              "      <th>2</th>\n",
              "      <td>2</td>\n",
              "      <td>Le test de niveau en français est sur le site ...</td>\n",
              "      <td>0</td>\n",
              "    </tr>\n",
              "    <tr>\n",
              "      <th>3</th>\n",
              "      <td>3</td>\n",
              "      <td>Est-ce que ton mari est aussi de Boston?</td>\n",
              "      <td>0</td>\n",
              "    </tr>\n",
              "    <tr>\n",
              "      <th>4</th>\n",
              "      <td>4</td>\n",
              "      <td>Dans les écoles de commerce, dans les couloirs...</td>\n",
              "      <td>2</td>\n",
              "    </tr>\n",
              "    <tr>\n",
              "      <th>...</th>\n",
              "      <td>...</td>\n",
              "      <td>...</td>\n",
              "      <td>...</td>\n",
              "    </tr>\n",
              "    <tr>\n",
              "      <th>4795</th>\n",
              "      <td>4795</td>\n",
              "      <td>C'est pourquoi, il décida de remplacer les hab...</td>\n",
              "      <td>3</td>\n",
              "    </tr>\n",
              "    <tr>\n",
              "      <th>4796</th>\n",
              "      <td>4796</td>\n",
              "      <td>Il avait une de ces pâleurs splendides qui don...</td>\n",
              "      <td>4</td>\n",
              "    </tr>\n",
              "    <tr>\n",
              "      <th>4797</th>\n",
              "      <td>4797</td>\n",
              "      <td>Et le premier samedi de chaque mois, venez ren...</td>\n",
              "      <td>1</td>\n",
              "    </tr>\n",
              "    <tr>\n",
              "      <th>4798</th>\n",
              "      <td>4798</td>\n",
              "      <td>Les coûts liés à la journalisation n'étant pas...</td>\n",
              "      <td>5</td>\n",
              "    </tr>\n",
              "    <tr>\n",
              "      <th>4799</th>\n",
              "      <td>4799</td>\n",
              "      <td>Sur le sable, la mer haletait de toute la resp...</td>\n",
              "      <td>5</td>\n",
              "    </tr>\n",
              "  </tbody>\n",
              "</table>\n",
              "<p>4800 rows × 3 columns</p>\n",
              "</div>\n",
              "      <button class=\"colab-df-convert\" onclick=\"convertToInteractive('df-673a0dfd-97c0-465f-9b46-f5c9ca4493be')\"\n",
              "              title=\"Convert this dataframe to an interactive table.\"\n",
              "              style=\"display:none;\">\n",
              "        \n",
              "  <svg xmlns=\"http://www.w3.org/2000/svg\" height=\"24px\"viewBox=\"0 0 24 24\"\n",
              "       width=\"24px\">\n",
              "    <path d=\"M0 0h24v24H0V0z\" fill=\"none\"/>\n",
              "    <path d=\"M18.56 5.44l.94 2.06.94-2.06 2.06-.94-2.06-.94-.94-2.06-.94 2.06-2.06.94zm-11 1L8.5 8.5l.94-2.06 2.06-.94-2.06-.94L8.5 2.5l-.94 2.06-2.06.94zm10 10l.94 2.06.94-2.06 2.06-.94-2.06-.94-.94-2.06-.94 2.06-2.06.94z\"/><path d=\"M17.41 7.96l-1.37-1.37c-.4-.4-.92-.59-1.43-.59-.52 0-1.04.2-1.43.59L10.3 9.45l-7.72 7.72c-.78.78-.78 2.05 0 2.83L4 21.41c.39.39.9.59 1.41.59.51 0 1.02-.2 1.41-.59l7.78-7.78 2.81-2.81c.8-.78.8-2.07 0-2.86zM5.41 20L4 18.59l7.72-7.72 1.47 1.35L5.41 20z\"/>\n",
              "  </svg>\n",
              "      </button>\n",
              "      \n",
              "  <style>\n",
              "    .colab-df-container {\n",
              "      display:flex;\n",
              "      flex-wrap:wrap;\n",
              "      gap: 12px;\n",
              "    }\n",
              "\n",
              "    .colab-df-convert {\n",
              "      background-color: #E8F0FE;\n",
              "      border: none;\n",
              "      border-radius: 50%;\n",
              "      cursor: pointer;\n",
              "      display: none;\n",
              "      fill: #1967D2;\n",
              "      height: 32px;\n",
              "      padding: 0 0 0 0;\n",
              "      width: 32px;\n",
              "    }\n",
              "\n",
              "    .colab-df-convert:hover {\n",
              "      background-color: #E2EBFA;\n",
              "      box-shadow: 0px 1px 2px rgba(60, 64, 67, 0.3), 0px 1px 3px 1px rgba(60, 64, 67, 0.15);\n",
              "      fill: #174EA6;\n",
              "    }\n",
              "\n",
              "    [theme=dark] .colab-df-convert {\n",
              "      background-color: #3B4455;\n",
              "      fill: #D2E3FC;\n",
              "    }\n",
              "\n",
              "    [theme=dark] .colab-df-convert:hover {\n",
              "      background-color: #434B5C;\n",
              "      box-shadow: 0px 1px 3px 1px rgba(0, 0, 0, 0.15);\n",
              "      filter: drop-shadow(0px 1px 2px rgba(0, 0, 0, 0.3));\n",
              "      fill: #FFFFFF;\n",
              "    }\n",
              "  </style>\n",
              "\n",
              "      <script>\n",
              "        const buttonEl =\n",
              "          document.querySelector('#df-673a0dfd-97c0-465f-9b46-f5c9ca4493be button.colab-df-convert');\n",
              "        buttonEl.style.display =\n",
              "          google.colab.kernel.accessAllowed ? 'block' : 'none';\n",
              "\n",
              "        async function convertToInteractive(key) {\n",
              "          const element = document.querySelector('#df-673a0dfd-97c0-465f-9b46-f5c9ca4493be');\n",
              "          const dataTable =\n",
              "            await google.colab.kernel.invokeFunction('convertToInteractive',\n",
              "                                                     [key], {});\n",
              "          if (!dataTable) return;\n",
              "\n",
              "          const docLinkHtml = 'Like what you see? Visit the ' +\n",
              "            '<a target=\"_blank\" href=https://colab.research.google.com/notebooks/data_table.ipynb>data table notebook</a>'\n",
              "            + ' to learn more about interactive tables.';\n",
              "          element.innerHTML = '';\n",
              "          dataTable['output_type'] = 'display_data';\n",
              "          await google.colab.output.renderOutput(dataTable, element);\n",
              "          const docLink = document.createElement('div');\n",
              "          docLink.innerHTML = docLinkHtml;\n",
              "          element.appendChild(docLink);\n",
              "        }\n",
              "      </script>\n",
              "    </div>\n",
              "  </div>\n",
              "  "
            ]
          },
          "metadata": {},
          "execution_count": 55
        }
      ]
    },
    {
      "cell_type": "code",
      "execution_count": 56,
      "metadata": {
        "id": "n6Z70P3Qm2Qj"
      },
      "outputs": [],
      "source": [
        "#Define X as the sentences on which the prediction is based\n",
        "X = corpus_NN['sentence']\n",
        "\n",
        "#Define y as the difficulty that we want to predict\n",
        "y = corpus_NN['difficulty']"
      ]
    },
    {
      "cell_type": "code",
      "source": [
        "#Use the TfidfVectorizer() on the X set\n",
        "tfidf_vectorizer_vectors=tfidf_vector.fit_transform(X)"
      ],
      "metadata": {
        "id": "g4iwFFX2PLRg"
      },
      "execution_count": 57,
      "outputs": []
    },
    {
      "cell_type": "code",
      "source": [
        "# Place tf-idf values in a pandas data frame\n",
        "df = pd.DataFrame(tfidf_vectorizer_vectors.todense(), columns=tfidf_vector.get_feature_names())"
      ],
      "metadata": {
        "id": "Of1IOe0uPPas",
        "colab": {
          "base_uri": "https://localhost:8080/"
        },
        "outputId": "1e810b8a-2c9b-4c90-c21b-91cd45b7019f"
      },
      "execution_count": 58,
      "outputs": [
        {
          "output_type": "stream",
          "name": "stderr",
          "text": [
            "/usr/local/lib/python3.8/dist-packages/sklearn/utils/deprecation.py:87: FutureWarning: Function get_feature_names is deprecated; get_feature_names is deprecated in 1.0 and will be removed in 1.2. Please use get_feature_names_out instead.\n",
            "  warnings.warn(msg, category=FutureWarning)\n"
          ]
        }
      ]
    },
    {
      "cell_type": "code",
      "source": [
        "# Define the PCA, which is used to reduce dimensions\n",
        "pca = PCA(n_components=4800)"
      ],
      "metadata": {
        "id": "k8LycYX_UNVt"
      },
      "execution_count": 59,
      "outputs": []
    },
    {
      "cell_type": "code",
      "source": [
        "# Apply the PCA to the data frame\n",
        "df = pca.fit_transform(df)\n",
        "\n",
        "# Print the explained variance ratio of the PCA, the value being close to one, meaning that the PCA should be useful to use\n",
        "print(sum(pca.explained_variance_ratio_))"
      ],
      "metadata": {
        "id": "Nk4HvZoMUS0H",
        "colab": {
          "base_uri": "https://localhost:8080/"
        },
        "outputId": "4188ec49-0f7a-43ec-d2a0-3338b98bbf7d"
      },
      "execution_count": 60,
      "outputs": [
        {
          "output_type": "stream",
          "name": "stdout",
          "text": [
            "1.0000000000000007\n"
          ]
        }
      ]
    },
    {
      "cell_type": "code",
      "execution_count": 61,
      "metadata": {
        "id": "25lMU4Rsm2Qk"
      },
      "outputs": [],
      "source": [
        "# Split the data in X_train, X_test, y_train, and y_test\n",
        "X_train, X_test, y_train, y_test = train_test_split(df, y, test_size=0.2, shuffle=True, random_state=0)"
      ]
    },
    {
      "cell_type": "code",
      "source": [
        "# Transform y_test and y_train to numpy\n",
        "y_test = y_test.to_numpy()\n",
        "y_train= y_train.to_numpy()"
      ],
      "metadata": {
        "id": "_40Oytn_gCxk"
      },
      "execution_count": 62,
      "outputs": []
    },
    {
      "cell_type": "code",
      "source": [
        "# Reshape X_train and X_test to the right dimensions for the neural network\n",
        "X_train = X_train.reshape(-1, X_train.shape[1]).astype('float32')\n",
        "X_test = X_test.reshape(-1, X_test.shape[1]).astype('float32')"
      ],
      "metadata": {
        "id": "IVrwg5MVdMCG"
      },
      "execution_count": 63,
      "outputs": []
    },
    {
      "cell_type": "code",
      "source": [
        "# Transform X_test and y_test to torch, such that it can be used by the neural network\n",
        "X_test = torch.from_numpy(X_test)\n",
        "y_test = torch.from_numpy(y_test)"
      ],
      "metadata": {
        "id": "PGmipa4cfzXb"
      },
      "execution_count": 64,
      "outputs": []
    },
    {
      "cell_type": "code",
      "source": [
        "# Define dataset class that can be used to load and process data for training the neural network\n",
        "class Data(Dataset):\n",
        "    def __init__(self):\n",
        "        self.x=torch.from_numpy(X_train)\n",
        "        self.y=torch.from_numpy(y_train)\n",
        "        self.len=self.x.shape[0]\n",
        "    def __getitem__(self,index):      \n",
        "        return self.x[index], self.y[index]\n",
        "    def __len__(self):\n",
        "        return self.len"
      ],
      "metadata": {
        "id": "8ONd6j5EiB0I"
      },
      "execution_count": 65,
      "outputs": []
    },
    {
      "cell_type": "code",
      "source": [
        "# Trainloader is used to create batched to train on\n",
        "data_set = Data()\n",
        "trainloader = DataLoader(dataset=data_set,batch_size=100)"
      ],
      "metadata": {
        "id": "3Jt-G1TkiRzw"
      },
      "execution_count": 66,
      "outputs": []
    },
    {
      "cell_type": "code",
      "source": [
        "# This class defines a neural network with two linear layers and applies a sigmoid activation function to the output of the first linear layer.\n",
        "class Net(nn.Module):\n",
        "    def __init__(self,D_in,H,D_out):\n",
        "        super(Net,self).__init__()\n",
        "        self.linear1=nn.Linear(D_in,H)\n",
        "        self.linear2=nn.Linear(H,D_out)\n",
        "\n",
        "        \n",
        "    def forward(self,x):\n",
        "        x=torch.sigmoid(self.linear1(x))  \n",
        "        x=self.linear2(x)\n",
        "        return x"
      ],
      "metadata": {
        "id": "7bIL-IslgPtP"
      },
      "execution_count": 67,
      "outputs": []
    },
    {
      "cell_type": "code",
      "source": [
        "input_dim=data_set.x.shape[1]     # Input based on the number of variables in the dataset\n",
        "hidden_dim = 30                   # Number of nodes in hidden layer, based on testing\n",
        "output_dim= 6                     #Output neural network based on number of classes"
      ],
      "metadata": {
        "id": "3cJdRQENgfKF"
      },
      "execution_count": 68,
      "outputs": []
    },
    {
      "cell_type": "code",
      "source": [
        "# Presets for the loop in the next cell\n",
        "model = Net(input_dim,hidden_dim,output_dim)\n",
        "criterion=nn.CrossEntropyLoss()\n",
        "learning_rate=0.1\n",
        "optimizer=torch.optim.SGD(model.parameters(), lr=learning_rate)"
      ],
      "metadata": {
        "id": "8AQrY7wegr04"
      },
      "execution_count": 69,
      "outputs": []
    },
    {
      "cell_type": "code",
      "source": [
        "# Loop that checks that optimizes the model, aimed at minimizing the loss\n",
        "n_epochs=1000\n",
        "loss_list=[]\n",
        "\n",
        "# Number of epochs\n",
        "for epoch in range(n_epochs):\n",
        "    for x, y in trainloader:\n",
        "      \n",
        "\n",
        "        # Clear the gradient \n",
        "        optimizer.zero_grad()\n",
        "        # Make the prediction \n",
        "        z=model(x)\n",
        "       \n",
        "        loss=criterion(z,y)\n",
        "        # Calculate gradients of the parameters \n",
        "        loss.backward()\n",
        "        # Update the parameters \n",
        "        optimizer.step()\n",
        "        \n",
        "        loss_list.append(loss.data)\n",
        "        "
      ],
      "metadata": {
        "id": "tRLkFkzlg65f"
      },
      "execution_count": 70,
      "outputs": []
    },
    {
      "cell_type": "code",
      "source": [
        "# Use the model for X_test\n",
        "z = model(X_test)"
      ],
      "metadata": {
        "id": "X2l8pKYtpd-T"
      },
      "execution_count": 71,
      "outputs": []
    },
    {
      "cell_type": "code",
      "source": [
        "# Put the values of z in a dataframe\n",
        "px1 = pd.DataFrame(z.detach().numpy())"
      ],
      "metadata": {
        "id": "qTO7Y2nB2UDp"
      },
      "execution_count": 72,
      "outputs": []
    },
    {
      "cell_type": "code",
      "source": [
        "# Take the highest score in each row\n",
        "max_col = px1.apply(lambda x: x.argmax(), axis=1)"
      ],
      "metadata": {
        "id": "JznZzw_6-8KT"
      },
      "execution_count": 73,
      "outputs": []
    },
    {
      "cell_type": "code",
      "source": [
        "# Transform the max_col to a numpy type\n",
        "y_pred_nn_new = max_col.to_numpy()"
      ],
      "metadata": {
        "id": "nSb1InT2A0B7"
      },
      "execution_count": 74,
      "outputs": []
    },
    {
      "cell_type": "code",
      "source": [
        "accuracyscore_nn = accuracy_score(y_test, y_pred_nn_new)"
      ],
      "metadata": {
        "id": "5QGUP8bpQeUp"
      },
      "execution_count": 75,
      "outputs": []
    },
    {
      "cell_type": "code",
      "source": [
        "# Print the confusion matrix, accuracy, precision, recall, and F1 score\n",
        "evaluate(y_test, y_pred_nn_new)"
      ],
      "metadata": {
        "id": "Hv9164YdM_ba",
        "outputId": "9ec1d29c-9768-4b84-d256-cf77197f42b4",
        "colab": {
          "base_uri": "https://localhost:8080/"
        }
      },
      "execution_count": 76,
      "outputs": [
        {
          "output_type": "stream",
          "name": "stdout",
          "text": [
            "CONFUSION MATRIX:\n",
            "[[96 35 16  9  3  2]\n",
            " [51 69 30  7  4  3]\n",
            " [13 35 79 13  7 13]\n",
            " [ 6  7 16 79 18 18]\n",
            " [ 3  5 11 57 70 27]\n",
            " [ 4  5 10 32 30 77]]\n",
            "ACCURACY SCORE:\n",
            "0.4896\n",
            "CLASSIFICATION REPORT:\n",
            "\tPrecision: 0.4961\n",
            "\tRecall: 0.4896\n",
            "\tF1_Score: 0.4891\n"
          ]
        }
      ]
    },
    {
      "cell_type": "code",
      "source": [
        "# Create tf-idf for the unlabeled data\n",
        "tfidf_vectorizer_unlabeled = tfidf_vector.transform(unlabel_data_nn['sentence'])\n",
        "\n",
        "# Create dataframe for the tf-idf\n",
        "df_unlabel = pd.DataFrame(tfidf_vectorizer_unlabeled.todense(), columns=tfidf_vector.get_feature_names())"
      ],
      "metadata": {
        "id": "XWnSyh930jLh",
        "colab": {
          "base_uri": "https://localhost:8080/"
        },
        "outputId": "8ef836a6-c4df-4dd9-9678-8c465e781175"
      },
      "execution_count": 77,
      "outputs": [
        {
          "output_type": "stream",
          "name": "stderr",
          "text": [
            "/usr/local/lib/python3.8/dist-packages/sklearn/utils/deprecation.py:87: FutureWarning: Function get_feature_names is deprecated; get_feature_names is deprecated in 1.0 and will be removed in 1.2. Please use get_feature_names_out instead.\n",
            "  warnings.warn(msg, category=FutureWarning)\n"
          ]
        }
      ]
    },
    {
      "cell_type": "code",
      "source": [
        "# Define PCA for the unlabelled data\n",
        "pca_unlabel = PCA(n_components=1200)\n",
        "\n",
        "# Use PCA on the unlabelled data\n",
        "df_unlabel = pca.transform(df_unlabel)"
      ],
      "metadata": {
        "id": "vsqnI21Po1cH"
      },
      "execution_count": 78,
      "outputs": []
    },
    {
      "cell_type": "code",
      "source": [
        "# Reshape the df_unlabel such that it can be used within the neural network\n",
        "df_unlabel = df_unlabel.reshape(-1, df_unlabel.shape[1]).astype('float32')\n",
        "\n",
        "# Make a torch type of the df_unlabel\n",
        "df_unlabel = torch.from_numpy(df_unlabel)"
      ],
      "metadata": {
        "id": "QOOqI7oTu9Ce"
      },
      "execution_count": 79,
      "outputs": []
    },
    {
      "cell_type": "code",
      "source": [
        "# Run the df_unlabel in the model\n",
        "model_unlabel = model(df_unlabel)"
      ],
      "metadata": {
        "id": "Ii8DmJf_vPuy"
      },
      "execution_count": 80,
      "outputs": []
    },
    {
      "cell_type": "code",
      "source": [
        "# Transform to numpy type\n",
        "px_unlabel = pd.DataFrame(model_unlabel.detach().numpy())"
      ],
      "metadata": {
        "id": "AgFg3D2qvmBr"
      },
      "execution_count": 81,
      "outputs": []
    },
    {
      "cell_type": "code",
      "source": [
        "# Choose the highest row value and return the value of the column name\n",
        "max_col_unlabel = px_unlabel.apply(lambda x: x.argmax(), axis=1)\n",
        "\n",
        "# Transform to numpy type\n",
        "pred_nn_unlabel = max_col_unlabel.to_numpy()"
      ],
      "metadata": {
        "id": "IUdosX4kvmBr"
      },
      "execution_count": 82,
      "outputs": []
    },
    {
      "cell_type": "code",
      "source": [
        "########### Now that we have the pred_nn_unlabel, we also should be able to generalize this part #####################\n",
        "\n",
        "# Extract difficulty column from pred_nn_unlabel\n",
        "unlabel_data_nn['difficulty'] = pred_nn_unlabel"
      ],
      "metadata": {
        "id": "bDW0j6KCzXej"
      },
      "execution_count": 83,
      "outputs": []
    },
    {
      "cell_type": "code",
      "source": [
        "# Transform values from integers to categorial values\n",
        "unlabel_data_nn['difficulty'] = unlabel_data_nn['difficulty'].astype('category').cat.rename_categories([\"A1\", \"A2\", \"B1\", \"B2\", \"C1\", \"C2\"])"
      ],
      "metadata": {
        "id": "NjogRJsBwEsE"
      },
      "execution_count": 84,
      "outputs": []
    },
    {
      "cell_type": "code",
      "execution_count": 85,
      "metadata": {
        "id": "RGCttsa3zocz"
      },
      "outputs": [],
      "source": [
        "# Remove sentence column, such that is has the right format for Kaggle\n",
        "predictionsnn = unlabel_data_nn.drop(columns=[\"sentence\"])"
      ]
    },
    {
      "cell_type": "code",
      "execution_count": 86,
      "metadata": {
        "id": "b4J_w87izocz"
      },
      "outputs": [],
      "source": [
        "# Create a csv file with the predicted values\n",
        "predictionsnn.to_csv(\"Predictions_NN_tudor.csv\", index=False)"
      ]
    },
    {
      "cell_type": "markdown",
      "metadata": {
        "id": "82FvnJycsBFf"
      },
      "source": [
        "### 3. Show a summary of your results"
      ]
    },
    {
      "cell_type": "code",
      "source": [
        "from tables.table import Table\n",
        "d = {'Logistic Regression': [accuracyscore_lr], 'K-Nearest Neighbour': [accuracyscore_knn], 'Decision Tree Classifier': [accuracyscore_tree],'Random forest Classifier': [accuracyscore_forest],'Neural Networks': [accuracyscore_nn],}\n",
        "index_labels=['Accuracy']\n",
        "Table = pd.DataFrame(data=d, index=index_labels)\n",
        "Table"
      ],
      "metadata": {
        "id": "jwtMUU9vDYfg",
        "colab": {
          "base_uri": "https://localhost:8080/",
          "height": 81
        },
        "outputId": "ea25956f-dd2c-4346-d62c-485f4fc733bd"
      },
      "execution_count": 87,
      "outputs": [
        {
          "output_type": "execute_result",
          "data": {
            "text/plain": [
              "          Logistic Regression  K-Nearest Neighbour  Decision Tree Classifier  \\\n",
              "Accuracy             0.466667             0.348958                  0.320833   \n",
              "\n",
              "          Random forest Classifier  Neural Networks  \n",
              "Accuracy                  0.419792         0.489583  "
            ],
            "text/html": [
              "\n",
              "  <div id=\"df-d52170f9-6dbf-463d-9998-5e716dd857fa\">\n",
              "    <div class=\"colab-df-container\">\n",
              "      <div>\n",
              "<style scoped>\n",
              "    .dataframe tbody tr th:only-of-type {\n",
              "        vertical-align: middle;\n",
              "    }\n",
              "\n",
              "    .dataframe tbody tr th {\n",
              "        vertical-align: top;\n",
              "    }\n",
              "\n",
              "    .dataframe thead th {\n",
              "        text-align: right;\n",
              "    }\n",
              "</style>\n",
              "<table border=\"1\" class=\"dataframe\">\n",
              "  <thead>\n",
              "    <tr style=\"text-align: right;\">\n",
              "      <th></th>\n",
              "      <th>Logistic Regression</th>\n",
              "      <th>K-Nearest Neighbour</th>\n",
              "      <th>Decision Tree Classifier</th>\n",
              "      <th>Random forest Classifier</th>\n",
              "      <th>Neural Networks</th>\n",
              "    </tr>\n",
              "  </thead>\n",
              "  <tbody>\n",
              "    <tr>\n",
              "      <th>Accuracy</th>\n",
              "      <td>0.466667</td>\n",
              "      <td>0.348958</td>\n",
              "      <td>0.320833</td>\n",
              "      <td>0.419792</td>\n",
              "      <td>0.489583</td>\n",
              "    </tr>\n",
              "  </tbody>\n",
              "</table>\n",
              "</div>\n",
              "      <button class=\"colab-df-convert\" onclick=\"convertToInteractive('df-d52170f9-6dbf-463d-9998-5e716dd857fa')\"\n",
              "              title=\"Convert this dataframe to an interactive table.\"\n",
              "              style=\"display:none;\">\n",
              "        \n",
              "  <svg xmlns=\"http://www.w3.org/2000/svg\" height=\"24px\"viewBox=\"0 0 24 24\"\n",
              "       width=\"24px\">\n",
              "    <path d=\"M0 0h24v24H0V0z\" fill=\"none\"/>\n",
              "    <path d=\"M18.56 5.44l.94 2.06.94-2.06 2.06-.94-2.06-.94-.94-2.06-.94 2.06-2.06.94zm-11 1L8.5 8.5l.94-2.06 2.06-.94-2.06-.94L8.5 2.5l-.94 2.06-2.06.94zm10 10l.94 2.06.94-2.06 2.06-.94-2.06-.94-.94-2.06-.94 2.06-2.06.94z\"/><path d=\"M17.41 7.96l-1.37-1.37c-.4-.4-.92-.59-1.43-.59-.52 0-1.04.2-1.43.59L10.3 9.45l-7.72 7.72c-.78.78-.78 2.05 0 2.83L4 21.41c.39.39.9.59 1.41.59.51 0 1.02-.2 1.41-.59l7.78-7.78 2.81-2.81c.8-.78.8-2.07 0-2.86zM5.41 20L4 18.59l7.72-7.72 1.47 1.35L5.41 20z\"/>\n",
              "  </svg>\n",
              "      </button>\n",
              "      \n",
              "  <style>\n",
              "    .colab-df-container {\n",
              "      display:flex;\n",
              "      flex-wrap:wrap;\n",
              "      gap: 12px;\n",
              "    }\n",
              "\n",
              "    .colab-df-convert {\n",
              "      background-color: #E8F0FE;\n",
              "      border: none;\n",
              "      border-radius: 50%;\n",
              "      cursor: pointer;\n",
              "      display: none;\n",
              "      fill: #1967D2;\n",
              "      height: 32px;\n",
              "      padding: 0 0 0 0;\n",
              "      width: 32px;\n",
              "    }\n",
              "\n",
              "    .colab-df-convert:hover {\n",
              "      background-color: #E2EBFA;\n",
              "      box-shadow: 0px 1px 2px rgba(60, 64, 67, 0.3), 0px 1px 3px 1px rgba(60, 64, 67, 0.15);\n",
              "      fill: #174EA6;\n",
              "    }\n",
              "\n",
              "    [theme=dark] .colab-df-convert {\n",
              "      background-color: #3B4455;\n",
              "      fill: #D2E3FC;\n",
              "    }\n",
              "\n",
              "    [theme=dark] .colab-df-convert:hover {\n",
              "      background-color: #434B5C;\n",
              "      box-shadow: 0px 1px 3px 1px rgba(0, 0, 0, 0.15);\n",
              "      filter: drop-shadow(0px 1px 2px rgba(0, 0, 0, 0.3));\n",
              "      fill: #FFFFFF;\n",
              "    }\n",
              "  </style>\n",
              "\n",
              "      <script>\n",
              "        const buttonEl =\n",
              "          document.querySelector('#df-d52170f9-6dbf-463d-9998-5e716dd857fa button.colab-df-convert');\n",
              "        buttonEl.style.display =\n",
              "          google.colab.kernel.accessAllowed ? 'block' : 'none';\n",
              "\n",
              "        async function convertToInteractive(key) {\n",
              "          const element = document.querySelector('#df-d52170f9-6dbf-463d-9998-5e716dd857fa');\n",
              "          const dataTable =\n",
              "            await google.colab.kernel.invokeFunction('convertToInteractive',\n",
              "                                                     [key], {});\n",
              "          if (!dataTable) return;\n",
              "\n",
              "          const docLinkHtml = 'Like what you see? Visit the ' +\n",
              "            '<a target=\"_blank\" href=https://colab.research.google.com/notebooks/data_table.ipynb>data table notebook</a>'\n",
              "            + ' to learn more about interactive tables.';\n",
              "          element.innerHTML = '';\n",
              "          dataTable['output_type'] = 'display_data';\n",
              "          await google.colab.output.renderOutput(dataTable, element);\n",
              "          const docLink = document.createElement('div');\n",
              "          docLink.innerHTML = docLinkHtml;\n",
              "          element.appendChild(docLink);\n",
              "        }\n",
              "      </script>\n",
              "    </div>\n",
              "  </div>\n",
              "  "
            ]
          },
          "metadata": {},
          "execution_count": 87
        }
      ]
    }
  ],
  "metadata": {
    "colab": {
      "provenance": [],
      "collapsed_sections": [
        "vXG_yIG_pQ8t",
        "FFNH1WgNqc62"
      ],
      "include_colab_link": true
    },
    "kernelspec": {
      "display_name": "Python 3",
      "name": "python3"
    },
    "language_info": {
      "name": "python"
    }
  },
  "nbformat": 4,
  "nbformat_minor": 0
}
